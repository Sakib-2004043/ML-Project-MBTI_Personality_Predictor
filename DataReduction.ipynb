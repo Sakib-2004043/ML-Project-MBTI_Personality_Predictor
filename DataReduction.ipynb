{
 "cells": [
  {
   "cell_type": "code",
   "execution_count": 1,
   "metadata": {},
   "outputs": [
    {
     "name": "stdout",
     "output_type": "stream",
     "text": [
      "Successfully saved 2000 rows to Data/mbti_2000.csv\n"
     ]
    }
   ],
   "source": [
    "# Reducting Dataset Size For faster Execution Only during implementation\n",
    "\n",
    "import pandas as pd\n",
    "\n",
    "inputFile = \"mbti\"\n",
    "rowNum = 2000\n",
    "\n",
    "data = pd.read_csv(f\"Data/{inputFile}.csv\", nrows=rowNum)\n",
    "\n",
    "output_file = \"Data/\"+inputFile+f\"_{rowNum}.csv\"\n",
    "data.to_csv(output_file, index=False)\n",
    "\n",
    "print(f\"Successfully saved {rowNum} rows to {output_file}\")\n"
   ]
  }
 ],
 "metadata": {
  "kernelspec": {
   "display_name": "Python 3",
   "language": "python",
   "name": "python3"
  },
  "language_info": {
   "codemirror_mode": {
    "name": "ipython",
    "version": 3
   },
   "file_extension": ".py",
   "mimetype": "text/x-python",
   "name": "python",
   "nbconvert_exporter": "python",
   "pygments_lexer": "ipython3",
   "version": "3.12.4"
  }
 },
 "nbformat": 4,
 "nbformat_minor": 2
}
